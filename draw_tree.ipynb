{
 "cells": [
  {
   "cell_type": "code",
   "execution_count": 2,
   "metadata": {},
   "outputs": [],
   "source": [
    "import turtle as t\n",
    "from math import *\n",
    "import random"
   ]
  },
  {
   "cell_type": "code",
   "execution_count": 37,
   "metadata": {},
   "outputs": [],
   "source": [
    "def tree(n,l_init,high_rate,flower_size,stem_size=10,leaf=False,leaf_size=None,leaf_prop=None):\n",
    "    t.pd()\n",
    "    t.color((0.8,0.3,0.3))\n",
    "    t.pensize(stem_size)\n",
    "    t.forward(l_init)\n",
    "    if n>0:\n",
    "        Ldegree = random.random()*90*high_rate\n",
    "        t.left(Ldegree)\n",
    "        tree(n-1,l_init*0.8,high_rate,flower_size,stem_size*0.8,leaf,leaf_size,leaf_prop)\n",
    "        Rdegree = random.random()*90*high_rate\n",
    "        t.right(Ldegree+Rdegree)\n",
    "        tree(n-1,l_init*0.8,high_rate,flower_size,stem_size*0.8,leaf,leaf_size,leaf_prop)\n",
    "        t.left(Rdegree)\n",
    "    else:\n",
    "        if leaf:\n",
    "            q = random.random()\n",
    "            if q < leaf_prop:\n",
    "                t.color((0,1,0))\n",
    "                t.right(90)\n",
    "                t.circle(leaf_size)\n",
    "                t.left(90)\n",
    "            else:\n",
    "                t.color((1,0,0))\n",
    "                t.right(90)\n",
    "                t.circle(flower_size)\n",
    "                t.left(90)\n",
    "        else:\n",
    "            t.color((1,0,0))\n",
    "            t.right(90)\n",
    "            t.circle(flower_size)\n",
    "            t.left(90)\n",
    "    t.pu()\n",
    "    t.back(l_init)"
   ]
  },
  {
   "cell_type": "code",
   "execution_count": 40,
   "metadata": {},
   "outputs": [],
   "source": [
    "t.pu()\n",
    "t.goto(-50,-100)\n",
    "t.setheading(90)\n",
    "tree(7,100,0.3,5,stem_size=8,leaf=True,leaf_size=5,leaf_prop=0.3)\n",
    "t.done()"
   ]
  }
 ],
 "metadata": {
  "kernelspec": {
   "display_name": "Python 3",
   "language": "python",
   "name": "python3"
  },
  "language_info": {
   "codemirror_mode": {
    "name": "ipython",
    "version": 3
   },
   "file_extension": ".py",
   "mimetype": "text/x-python",
   "name": "python",
   "nbconvert_exporter": "python",
   "pygments_lexer": "ipython3",
   "version": "3.6.1"
  }
 },
 "nbformat": 4,
 "nbformat_minor": 2
}
